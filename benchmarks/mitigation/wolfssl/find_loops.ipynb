{
 "cells": [
  {
   "cell_type": "code",
   "execution_count": 1,
   "metadata": {},
   "outputs": [],
   "source": [
    "loops = []\n",
    "with open(\"show_loops\") as f:\n",
    "    line = f.readline()\n",
    "    while line:\n",
    "        if line.startswith(\"Loop\"):\n",
    "            loop_id = line.split()[1].strip(\":\")\n",
    "            next_line = f.readline()\n",
    "            splits = next_line.split()\n",
    "            loops.append((loop_id, splits[1], splits[3], splits[5]))\n",
    "        line = f.readline()"
   ]
  },
  {
   "cell_type": "code",
   "execution_count": 2,
   "metadata": {},
   "outputs": [
    {
     "data": {
      "text/plain": [
       "345"
      ]
     },
     "execution_count": 2,
     "metadata": {},
     "output_type": "execute_result"
    }
   ],
   "source": [
    "len(loops)"
   ]
  },
  {
   "cell_type": "code",
   "execution_count": 3,
   "metadata": {},
   "outputs": [
    {
     "data": {
      "text/plain": [
       "81"
      ]
     },
     "execution_count": 3,
     "metadata": {},
     "output_type": "execute_result"
    }
   ],
   "source": [
    "trace_fun = []\n",
    "\n",
    "with open(\"trace_fun_dedup.txt\") as f:\n",
    "    for line in f:\n",
    "        trace_fun.append(line.strip(\"-\\n\"))\n",
    "len(trace_fun)"
   ]
  },
  {
   "cell_type": "code",
   "execution_count": 4,
   "metadata": {},
   "outputs": [
    {
     "data": {
      "text/plain": [
       "91"
      ]
     },
     "execution_count": 4,
     "metadata": {},
     "output_type": "execute_result"
    }
   ],
   "source": [
    "traced_loops = [l for l in loops if l[3] in trace_fun]\n",
    "traced_loops = sorted(traced_loops, key=lambda x: (x[1], x[2], x[0]))\n",
    "len(traced_loops)"
   ]
  },
  {
   "cell_type": "code",
   "execution_count": 5,
   "metadata": {},
   "outputs": [
    {
     "data": {
      "text/plain": [
       "{'./wolfcrypt/src/misc.c', 'wolfcrypt/src/ecc.c', 'wolfcrypt/src/tfm.c'}"
      ]
     },
     "execution_count": 5,
     "metadata": {},
     "output_type": "execute_result"
    }
   ],
   "source": [
    "\n",
    "set([l[1] for l in traced_loops])"
   ]
  },
  {
   "cell_type": "code",
   "execution_count": 6,
   "metadata": {},
   "outputs": [],
   "source": [
    "traced_loop_bounds = {}\n",
    "\n",
    "with open(\"loop_info.txt\") as f:\n",
    "    for line in f:\n",
    "        tup = eval(line)\n",
    "        traced_loop_bounds[tup[0]] = tup[-1]"
   ]
  },
  {
   "cell_type": "code",
   "execution_count": 7,
   "metadata": {},
   "outputs": [],
   "source": [
    "traced_loop_bounds = {k: 1 if v != 0 else 0 for k, v in traced_loop_bounds.items()}\n",
    "loop_bounds = {l[0]:0 for l in loops if l[0] not in traced_loop_bounds}"
   ]
  },
  {
   "cell_type": "code",
   "execution_count": 8,
   "metadata": {},
   "outputs": [],
   "source": [
    "loop_bounds.update(traced_loop_bounds)\n",
    "loop_bounds_str = \",\".join([k+\":\"+str(v) for k,v in loop_bounds.items()])\n",
    "loop_bounds_name = \",\".join([k for k,v in loop_bounds.items()])"
   ]
  },
  {
   "cell_type": "code",
   "execution_count": 9,
   "metadata": {},
   "outputs": [
    {
     "data": {
      "text/plain": [
       "'fp_invmod_slow.0:0,fp_invmod_slow.1:0,fp_invmod_slow.2:0,fp_invmod_slow.3:0,fp_invmod_slow.4:0,wc_SignatureGenerateHash_ex.0:0,wc_SignatureGenerateHash_ex.1:0,wc_SignatureVerifyHash.0:0,wc_SignatureVerifyHash.1:0,_Transform_Sha512.0:0,Transform_Sha256.0:0,Transform_Sha256.1:0,Transform_Sha256.2:0,Transform_Sha256.3:0,Transform_Sha256.4:0,RsaPrivateDecryptEx.0:0,RsaUnPad.0:0,RsaUnPad.1:0,Hash_gen.0:0,poly1305_blocks.0:0,DoBase64_Encode.0:0,Base64_SkipNewline.0:0,wc_Chacha_wordtobyte.0:0,wc_Chacha_wordtobyte.1:0,wc_Chacha_wordtobyte.2:0,wc_Chacha_wordtobyte.3:0,StoreRsaKey.0:0,wc_HKDF_Expand.0:0,Base64_Decode.0:0,GetObjectId.0:0,GetLength_ex.0:0,GetName.0:0,AES_GCM_decrypt_C.0:0,AES_GCM_encrypt_C.0:0,IncrementGcmCounter.0:0,IncCtr.0:0,wc_AesSetKeyLocal.0:0,wc_AesSetKeyLocal.1:0,wc_AesSetKeyLocal.2:0,wc_AesSetKeyLocal.3:0,wc_AesSetKeyLocal.4:0,wc_AesDecrypt.0:0,wc_AesEncrypt.0:0,ByteReverseWords64.0:0,ByteReverseWords.0:0,GHASH.0:0,GHASH.1:0,wc_AesCbcDecrypt.0:0,wc_AesCbcEncrypt.0:0,wc_ecc_import_raw.0:0,wc_ecc_mulmod_ex2.0:0,wc_ecc_get_curve_id_from_oid.0:0,wc_ecc_get_curve_id_from_dp_params.0:0,wc_ecc_get_curve_id_from_params.0:0,wc_HmacSetKey.0:0,wc_Poly1305Final.0:0,wc_PRF.0:0,xorbuf.0:0,XorWords.0:0,XorWords$link1.0:0,array_add.0:0,array_add.1:0,array_add_one.0:0,Hash_df.0:0,wc_Poly1305Update.0:0,wc_Poly1305Update.1:0,fp_prime_miller_rabin_ex.0:0,wc_Md5Update.0:0,wc_ShaUpdate.0:0,Sha256Update.0:0,wc_ecc_get_oid.0:0,RsaUnPad_OAEP.0:0,RsaUnPad_OAEP.1:0,RsaUnPad_OAEP.2:0,fp_to_unsigned_bin_len.0:0,wc_ecc_is_point.0:0,wc_ecc_is_point.1:0,GMULT.0:0,GMULT.1:0,ecc_mul2add.0:0,ecc_mul2add.1:0,ecc_mul2add.2:0,ecc_mul2add.3:0,ecc_mul2add.4:0,wc_ecc_sign_hash_ex.0:0,wc_ecc_sign_hash_ex.1:0,mp_prime_is_prime_ex.0:0,mp_prime_is_prime_ex.1:0,mp_prime_is_prime_ex.2:0,fp_mul_comba.0:0,fp_mul_comba.1:0,fp_mul_comba.2:0,fp_to_unsigned_bin_at_pos.0:0,fp_to_unsigned_bin_at_pos.1:0,fp_cnt_lsb.0:0,fp_cnt_lsb.1:0,wc_RNG_TestSeed.0:0,wc_ecc_is_valid_idx.0:0,mp_radix_size.0:0,xorbuf$link1.0:0,Sha512Update.0:0,wc_ecc_get_curve_idx.0:0,PreFetchTe.0:0,PreFetchTe.1:0,wc_ecc_get_curve_idx_from_name.0:0,fp_div_d.0:0,fp_div_d.1:0,s_is_power_of_two.0:0,FreeNameSubtrees.0:0,fp_isprime_ex.0:0,fp_isprime_ex.1:0,fp_isprime_ex.2:0,wc_Chacha_encrypt_bytes.0:0,wc_Chacha_encrypt_bytes.1:0,wc_Chacha_encrypt_bytes.2:0,wc_Chacha_encrypt_bytes.3:0,_fp_exptmod_nct.0:0,_fp_exptmod_nct.1:0,_fp_exptmod_nct.2:0,_fp_exptmod_nct.3:0,_fp_exptmod_nct.4:0,_fp_exptmod_nct.5:0,fp_leading_bit.0:0,ConstantCompare$link1.0:0,ConstantCompare.0:0,fp_sqr_comba.0:0,fp_sqr_comba.1:0,fp_sqr_comba.2:0,fp_sqr_comba.3:0,fp_sqr_comba.4:0,_fp_exptmod_base_2.0:0,_fp_exptmod_base_2.1:0,SetLength.0:0,wc_strsep.0:0,wc_strsep.1:0,BytePrecision.0:0,RsaPad_OAEP.0:0,RsaPad_OAEP.1:0,RsaPad_OAEP.2:0,fp_sqr_comba8.0:0,fp_sqr_comba8.1:0,fp_sqr_comba8.2:0,fp_sqr_comba8.3:0,fp_sqr_comba8.4:0,fp_sqr_comba8.5:0,fp_sqr_comba8.6:0,fp_sqr_comba8.7:0,fp_sqr_comba8.8:0,fp_sqr_comba8.9:0,fp_sqr_comba8.10:0,fp_sqr_comba8.11:0,fp_sqr_comba8.12:0,fp_sqr_comba8.13:0,fp_sqr_comba8.14:0,fp_sqr_comba8.15:0,fp_sqr_comba8.16:0,fp_sqr_comba8.17:0,fp_sqr_comba8.18:0,fp_sqr_comba8.19:0,fp_sqr_comba8.20:0,fp_sqr_comba8.21:0,fp_sqr_comba8.22:0,fp_sqr_comba8.23:0,fp_sqr_comba8.24:0,fp_sqr_comba8.25:0,fp_sqr_comba8.26:0,fp_sqr_comba8.27:0,fp_sqr_comba8.28:0,fp_sqr_comba8.29:0,fp_sqr_comba8.30:0,fp_sqr_comba8.31:0,fp_sqr_comba8.32:0,fp_sqr_comba8.33:0,fp_sqr_comba8.34:0,fp_sqr_comba8.35:0,fp_sqr_comba8.36:0,fp_sqr_comba8.37:0,fp_sqr_comba8.38:0,fp_sqr_comba8.39:0,fp_sqr_comba8.40:0,fp_sqr_comba8.41:0,fp_sqr_comba8.42:0,fp_sqr_comba8.43:0,fp_sqr_comba8.44:0,fp_sqr_comba8.45:0,fp_sqr_comba8.46:0,fp_sqr_comba8.47:0,fp_sqr_comba8.48:0,fp_sqr_comba8.49:0,fp_sqr_comba8.50:0,fp_sqr_comba8.51:0,fp_sqr_comba8.52:0,fp_sqr_comba8.53:0,fp_sqr_comba8.54:0,fp_sqr_comba8.55:0,RsaMGF1.0:0,RsaMGF1.1:0,fp_mod_2d.0:0,fp_mod_2d.1:0,fp_invmod.0:0,fp_invmod.1:0,fp_invmod.2:0,fp_invmod.3:0,fp_invmod.4:0,mp_cond_copy.0:0,mp_cond_copy.1:0,FreeAltNames.0:0,fp_invmod_mont_ct.0:0,fp_invmod_mont_ct.1:0,fp_invmod_mont_ct.2:0,PreFetchTd4.0:0,PreFetchTd.0:0,PreFetchTd.1:0,fp_mul_comba8.0:0,wc_ReadDirNext.0:0,fp_reverse.0:0,Sha3Final.0:0,Sha3Final.1:0,Sha3Final.2:0,BlockSha3.0:0,BlockSha3.1:0,BlockSha3.2:0,BlockSha3.3:0,BlockSha3.4:0,__builtin___memset_chk.0:0,Sha3Update.0:0,Sha3Update.1:0,Sha3Update.2:0,Sha3Update.3:0,Sha3Update.4:0,wc_strtok.0:0,wc_strtok.1:0,wc_strtok.2:0,wc_strtok.3:0,ByteReverseWords$link1.0:0,Hash_DRBG_Uninstantiate.0:0,InitSha3.0:0,fp_read_unsigned_bin.0:0,fp_read_unsigned_bin.1:0,wc_GenerateSeed.0:0,ConstantCompare$link2.0:0,ConstantCompare$link3.0:0,RsaPad_PSS.0:0,RsaPad.0:0,RsaUnPad_PSS.0:0,RsaUnPad_PSS.1:0,ByteReverseWords64$link1.0:0,ByteReverseWords$link2.0:0,fp_set_int.0:0,fp_set_int.1:0,mp_toradix.0:0,mp_dump.0:0,wc_ReadDirFirst.0:0,mystrnstr.0:0,ForceZero$link1.0:0,ForceZero$link2.0:0,ForceZero$link3.0:0,ForceZero$link4.0:0,ForceZero$link5.0:0,ForceZero$link6.0:0,ForceZero$link7.0:0,ForceZero$link8.0:0,ForceZero.0:0,ForceZero$link1.1:1,ForceZero$link2.1:1,ForceZero$link3.1:1,ForceZero$link4.1:1,ForceZero$link5.1:1,ForceZero$link6.1:1,ForceZero$link7.1:1,ForceZero$link8.1:1,ForceZero.1:1,ForceZero$link1.2:0,ForceZero$link2.2:0,ForceZero$link3.2:0,ForceZero$link4.2:0,ForceZero$link5.2:0,ForceZero$link6.2:0,ForceZero$link7.2:0,ForceZero$link8.2:0,ForceZero.2:0,wc_ecc_set_curve.0:1,ecc_mulmod.0:0,ecc_mulmod.1:0,ecc_mulmod.3:1,ecc_mulmod.2:1,ecc_mulmod.4:0,wc_ecc_mulmod_ex.0:1,fp_cmp_mag_ct.0:1,fp_submod_ct.0:1,fp_submod_ct.1:1,fp_addmod_ct.0:1,fp_addmod_ct.1:1,s_fp_add.0:1,s_fp_add.1:0,s_fp_add.2:1,s_fp_sub.0:1,s_fp_sub.1:1,s_fp_sub.2:1,s_fp_sub.3:1,fp_sqr.0:1,fp_cmp_mag.0:1,fp_montgomery_calc_normalization.0:1,fp_montgomery_reduce_ex.0:1,fp_montgomery_reduce_ex.5:1,fp_montgomery_reduce_ex.2:1,fp_montgomery_reduce_ex.1:1,fp_montgomery_reduce_ex.4:1,fp_montgomery_reduce_ex.3:0,fp_montgomery_reduce_ex.6:1,fp_montgomery_reduce_ex.7:1,fp_montgomery_reduce_ex.8:1,fp_count_bits.0:1,fp_mul.0:0,fp_lshd.0:1,fp_lshd.1:1,fp_lshd.2:1,fp_rshb.0:1,fp_rshb.1:1,fp_rshd.0:1,fp_rshd.1:1,fp_rshd.2:1,fp_mul_2.0:1,fp_mul_2.1:0,fp_mul_d.0:1,fp_mul_d.1:1,fp_mul_d.2:0,fp_mul_2d.0:1,fp_mul_2d.1:0,fp_read_radix_16.0:1,fp_read_radix_16.1:1,fp_read_radix.1:0,fp_read_radix.0:0,fp_div.0:0,fp_div.2:1,fp_div.1:1,fp_div.3:0,fp_div.4:0,fp_div.5:1,fp_div_2.0:1,fp_div_2.1:0,fp_div_2.2:1,fp_div_2_mod_ct.0:1,fp_div_2_mod_ct.1:1,fp_div_2d.0:0'"
      ]
     },
     "execution_count": 9,
     "metadata": {},
     "output_type": "execute_result"
    }
   ],
   "source": [
    "loop_bounds_str"
   ]
  },
  {
   "cell_type": "code",
   "execution_count": 13,
   "metadata": {},
   "outputs": [
    {
     "data": {
      "text/plain": [
       "'fp_invmod_slow.0,fp_invmod_slow.1,fp_invmod_slow.2,fp_invmod_slow.3,fp_invmod_slow.4,wc_SignatureGenerateHash_ex.0,wc_SignatureGenerateHash_ex.1,wc_SignatureVerifyHash.0,wc_SignatureVerifyHash.1,_Transform_Sha512.0,Transform_Sha256.0,Transform_Sha256.1,Transform_Sha256.2,Transform_Sha256.3,Transform_Sha256.4,RsaPrivateDecryptEx.0,RsaUnPad.0,RsaUnPad.1,Hash_gen.0,poly1305_blocks.0,DoBase64_Encode.0,Base64_SkipNewline.0,wc_Chacha_wordtobyte.0,wc_Chacha_wordtobyte.1,wc_Chacha_wordtobyte.2,wc_Chacha_wordtobyte.3,StoreRsaKey.0,wc_HKDF_Expand.0,Base64_Decode.0,GetObjectId.0,GetLength_ex.0,GetName.0,AES_GCM_decrypt_C.0,AES_GCM_encrypt_C.0,IncrementGcmCounter.0,IncCtr.0,wc_AesSetKeyLocal.0,wc_AesSetKeyLocal.1,wc_AesSetKeyLocal.2,wc_AesSetKeyLocal.3,wc_AesSetKeyLocal.4,wc_AesDecrypt.0,wc_AesEncrypt.0,ByteReverseWords64.0,ByteReverseWords.0,GHASH.0,GHASH.1,wc_AesCbcDecrypt.0,wc_AesCbcEncrypt.0,wc_ecc_import_raw.0,wc_ecc_mulmod_ex2.0,wc_ecc_get_curve_id_from_oid.0,wc_ecc_get_curve_id_from_dp_params.0,wc_ecc_get_curve_id_from_params.0,wc_HmacSetKey.0,wc_Poly1305Final.0,wc_PRF.0,xorbuf.0,XorWords.0,XorWords$link1.0,array_add.0,array_add.1,array_add_one.0,Hash_df.0,wc_Poly1305Update.0,wc_Poly1305Update.1,fp_prime_miller_rabin_ex.0,wc_Md5Update.0,wc_ShaUpdate.0,Sha256Update.0,wc_ecc_get_oid.0,RsaUnPad_OAEP.0,RsaUnPad_OAEP.1,RsaUnPad_OAEP.2,fp_to_unsigned_bin_len.0,wc_ecc_is_point.0,wc_ecc_is_point.1,GMULT.0,GMULT.1,ecc_mul2add.0,ecc_mul2add.1,ecc_mul2add.2,ecc_mul2add.3,ecc_mul2add.4,wc_ecc_sign_hash_ex.0,wc_ecc_sign_hash_ex.1,mp_prime_is_prime_ex.0,mp_prime_is_prime_ex.1,mp_prime_is_prime_ex.2,fp_mul_comba.0,fp_mul_comba.1,fp_mul_comba.2,fp_to_unsigned_bin_at_pos.0,fp_to_unsigned_bin_at_pos.1,fp_cnt_lsb.0,fp_cnt_lsb.1,wc_RNG_TestSeed.0,wc_ecc_is_valid_idx.0,mp_radix_size.0,xorbuf$link1.0,Sha512Update.0,wc_ecc_get_curve_idx.0,PreFetchTe.0,PreFetchTe.1,wc_ecc_get_curve_idx_from_name.0,fp_div_d.0,fp_div_d.1,s_is_power_of_two.0,FreeNameSubtrees.0,fp_isprime_ex.0,fp_isprime_ex.1,fp_isprime_ex.2,wc_Chacha_encrypt_bytes.0,wc_Chacha_encrypt_bytes.1,wc_Chacha_encrypt_bytes.2,wc_Chacha_encrypt_bytes.3,_fp_exptmod_nct.0,_fp_exptmod_nct.1,_fp_exptmod_nct.2,_fp_exptmod_nct.3,_fp_exptmod_nct.4,_fp_exptmod_nct.5,fp_leading_bit.0,ConstantCompare$link1.0,ConstantCompare.0,fp_sqr_comba.0,fp_sqr_comba.1,fp_sqr_comba.2,fp_sqr_comba.3,fp_sqr_comba.4,_fp_exptmod_base_2.0,_fp_exptmod_base_2.1,SetLength.0,wc_strsep.0,wc_strsep.1,BytePrecision.0,RsaPad_OAEP.0,RsaPad_OAEP.1,RsaPad_OAEP.2,fp_sqr_comba8.0,fp_sqr_comba8.1,fp_sqr_comba8.2,fp_sqr_comba8.3,fp_sqr_comba8.4,fp_sqr_comba8.5,fp_sqr_comba8.6,fp_sqr_comba8.7,fp_sqr_comba8.8,fp_sqr_comba8.9,fp_sqr_comba8.10,fp_sqr_comba8.11,fp_sqr_comba8.12,fp_sqr_comba8.13,fp_sqr_comba8.14,fp_sqr_comba8.15,fp_sqr_comba8.16,fp_sqr_comba8.17,fp_sqr_comba8.18,fp_sqr_comba8.19,fp_sqr_comba8.20,fp_sqr_comba8.21,fp_sqr_comba8.22,fp_sqr_comba8.23,fp_sqr_comba8.24,fp_sqr_comba8.25,fp_sqr_comba8.26,fp_sqr_comba8.27,fp_sqr_comba8.28,fp_sqr_comba8.29,fp_sqr_comba8.30,fp_sqr_comba8.31,fp_sqr_comba8.32,fp_sqr_comba8.33,fp_sqr_comba8.34,fp_sqr_comba8.35,fp_sqr_comba8.36,fp_sqr_comba8.37,fp_sqr_comba8.38,fp_sqr_comba8.39,fp_sqr_comba8.40,fp_sqr_comba8.41,fp_sqr_comba8.42,fp_sqr_comba8.43,fp_sqr_comba8.44,fp_sqr_comba8.45,fp_sqr_comba8.46,fp_sqr_comba8.47,fp_sqr_comba8.48,fp_sqr_comba8.49,fp_sqr_comba8.50,fp_sqr_comba8.51,fp_sqr_comba8.52,fp_sqr_comba8.53,fp_sqr_comba8.54,fp_sqr_comba8.55,RsaMGF1.0,RsaMGF1.1,fp_mod_2d.0,fp_mod_2d.1,fp_invmod.0,fp_invmod.1,fp_invmod.2,fp_invmod.3,fp_invmod.4,mp_cond_copy.0,mp_cond_copy.1,FreeAltNames.0,fp_invmod_mont_ct.0,fp_invmod_mont_ct.1,fp_invmod_mont_ct.2,PreFetchTd4.0,PreFetchTd.0,PreFetchTd.1,fp_mul_comba8.0,wc_ReadDirNext.0,fp_reverse.0,Sha3Final.0,Sha3Final.1,Sha3Final.2,BlockSha3.0,BlockSha3.1,BlockSha3.2,BlockSha3.3,BlockSha3.4,__builtin___memset_chk.0,Sha3Update.0,Sha3Update.1,Sha3Update.2,Sha3Update.3,Sha3Update.4,wc_strtok.0,wc_strtok.1,wc_strtok.2,wc_strtok.3,ByteReverseWords$link1.0,Hash_DRBG_Uninstantiate.0,InitSha3.0,fp_read_unsigned_bin.0,fp_read_unsigned_bin.1,wc_GenerateSeed.0,ConstantCompare$link2.0,ConstantCompare$link3.0,RsaPad_PSS.0,RsaPad.0,RsaUnPad_PSS.0,RsaUnPad_PSS.1,ByteReverseWords64$link1.0,ByteReverseWords$link2.0,fp_set_int.0,fp_set_int.1,mp_toradix.0,mp_dump.0,wc_ReadDirFirst.0,mystrnstr.0,ForceZero$link1.0,ForceZero$link2.0,ForceZero$link3.0,ForceZero$link4.0,ForceZero$link5.0,ForceZero$link6.0,ForceZero$link7.0,ForceZero$link8.0,ForceZero.0,ForceZero$link1.1,ForceZero$link2.1,ForceZero$link3.1,ForceZero$link4.1,ForceZero$link5.1,ForceZero$link6.1,ForceZero$link7.1,ForceZero$link8.1,ForceZero.1,ForceZero$link1.2,ForceZero$link2.2,ForceZero$link3.2,ForceZero$link4.2,ForceZero$link5.2,ForceZero$link6.2,ForceZero$link7.2,ForceZero$link8.2,ForceZero.2,wc_ecc_set_curve.0,ecc_mulmod.0,ecc_mulmod.1,ecc_mulmod.3,ecc_mulmod.2,ecc_mulmod.4,wc_ecc_mulmod_ex.0,fp_cmp_mag_ct.0,fp_submod_ct.0,fp_submod_ct.1,fp_addmod_ct.0,fp_addmod_ct.1,s_fp_add.0,s_fp_add.1,s_fp_add.2,s_fp_sub.0,s_fp_sub.1,s_fp_sub.2,s_fp_sub.3,fp_sqr.0,fp_cmp_mag.0,fp_montgomery_calc_normalization.0,fp_montgomery_reduce_ex.0,fp_montgomery_reduce_ex.5,fp_montgomery_reduce_ex.2,fp_montgomery_reduce_ex.1,fp_montgomery_reduce_ex.4,fp_montgomery_reduce_ex.3,fp_montgomery_reduce_ex.6,fp_montgomery_reduce_ex.7,fp_montgomery_reduce_ex.8,fp_count_bits.0,fp_mul.0,fp_lshd.0,fp_lshd.1,fp_lshd.2,fp_rshb.0,fp_rshb.1,fp_rshd.0,fp_rshd.1,fp_rshd.2,fp_mul_2.0,fp_mul_2.1,fp_mul_d.0,fp_mul_d.1,fp_mul_d.2,fp_mul_2d.0,fp_mul_2d.1,fp_read_radix_16.0,fp_read_radix_16.1,fp_read_radix.1,fp_read_radix.0,fp_div.0,fp_div.2,fp_div.1,fp_div.3,fp_div.4,fp_div.5,fp_div_2.0,fp_div_2.1,fp_div_2.2,fp_div_2_mod_ct.0,fp_div_2_mod_ct.1,fp_div_2d.0'"
      ]
     },
     "execution_count": 13,
     "metadata": {},
     "output_type": "execute_result"
    }
   ],
   "source": [
    "loop_bounds_name"
   ]
  },
  {
   "cell_type": "code",
   "execution_count": null,
   "metadata": {},
   "outputs": [],
   "source": []
  },
  {
   "cell_type": "code",
   "execution_count": null,
   "metadata": {},
   "outputs": [],
   "source": []
  }
 ],
 "metadata": {
  "kernelspec": {
   "display_name": "Python 3.8.10 64-bit",
   "language": "python",
   "name": "python3"
  },
  "language_info": {
   "codemirror_mode": {
    "name": "ipython",
    "version": 3
   },
   "file_extension": ".py",
   "mimetype": "text/x-python",
   "name": "python",
   "nbconvert_exporter": "python",
   "pygments_lexer": "ipython3",
   "version": "3.8.10"
  },
  "orig_nbformat": 4,
  "vscode": {
   "interpreter": {
    "hash": "916dbcbb3f70747c44a77c7bcd40155683ae19c65e1c03b4aa3499c5328201f1"
   }
  }
 },
 "nbformat": 4,
 "nbformat_minor": 2
}
