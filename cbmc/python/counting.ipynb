{
 "cells": [
  {
   "cell_type": "code",
   "execution_count": 1,
   "metadata": {},
   "outputs": [],
   "source": [
    "import subprocess\n",
    "\n",
    "def get_obsv_bit_mapping(dimacs_path):\n",
    "    obvs_bit_mapping = dict()\n",
    "\n",
    "    with open(dimacs_path) as f:\n",
    "        lines = f.readlines()\n",
    "        for line in lines:\n",
    "            if line.startswith(\"c Observation_\"):\n",
    "                line = line.strip()\n",
    "                splits = line.split(\" \", 2)\n",
    "                obvs_bit_mapping[splits[1]] = splits[2]\n",
    "                \n",
    "    return obvs_bit_mapping\n",
    "\n",
    "def write_dimacs_with_ind(dimacs_path, dimacs_with_ind_path, obsv_bits_str):\n",
    "    f = open(dimacs_path)\n",
    "    lines = f.readlines()\n",
    "    out_str = lines[0]\n",
    "    out_str += \"c ind \" + obsv_bits_str + \" 0\\n\"\n",
    "    out_str += \"\".join(lines[1:])\n",
    "\n",
    "    f = open(dimacs_with_ind_path, \"w\")\n",
    "    f.write(out_str)\n",
    "    f.close()\n",
    "    \n",
    "def run_approxmc(dimacs_with_ind_path):\n",
    "    counter = \"/home/cream/src/approxmc/build/approxmc\"\n",
    "#     counter = \"/home/cream/src/ganak/build/ganak\"\n",
    "    cp = subprocess.run([counter, dimacs_with_ind_path], universal_newlines=True, stdout=subprocess.PIPE, stderr=subprocess.PIPE)\n",
    "    return(cp.stdout.splitlines()[-2:-1][0].split()[-1])\n",
    "#     return cp.stdout.splitlines()[-1].split()[-1]\n",
    "    \n",
    "    \n"
   ]
  },
  {
   "cell_type": "code",
   "execution_count": 2,
   "metadata": {},
   "outputs": [],
   "source": [
    "original_dimacs_path = \"/tmp/cbmc.dimacs\""
   ]
  },
  {
   "cell_type": "code",
   "execution_count": 3,
   "metadata": {
    "scrolled": true
   },
   "outputs": [
    {
     "name": "stdout",
     "output_type": "stream",
     "text": [
      "197\n"
     ]
    }
   ],
   "source": [
    "obvs_bit_mapping = get_obsv_bit_mapping(original_dimacs_path)\n",
    "\n",
    "obsv_indexes = sorted(map(lambda x: int(x.split('_')[1]), obvs_bit_mapping.keys()))\n",
    "print(len(obsv_indexes))"
   ]
  },
  {
   "cell_type": "code",
   "execution_count": null,
   "metadata": {},
   "outputs": [],
   "source": [
    "# Run approxmc on all obsv together\n",
    "write_dimacs_with_ind(original_dimacs_path, dimacs_with_ind_path, \" \".join(list(obvs_bit_mapping.values())))\n",
    "\n"
   ]
  },
  {
   "cell_type": "code",
   "execution_count": null,
   "metadata": {},
   "outputs": [],
   "source": [
    "import time\n",
    "import math\n",
    "\n",
    "\n",
    "start_time = time.time()\n",
    "# smc = run_approxmc(dimacs_with_ind_path)\n",
    "smc = count_selected_obsv(obsv_indexes, original_dimacs_path, obvs_bit_mapping)\n",
    "elapsed_time = time.time() - start_time\n",
    "print(smc)\n",
    "print(\"All smc is \" + str(smc) + \" Bit: \" + str(eval(\"math.log({},2)\".format(smc))) + \" TIME: \" + str(elapsed_time))"
   ]
  },
  {
   "cell_type": "code",
   "execution_count": null,
   "metadata": {},
   "outputs": [],
   "source": [
    "smc"
   ]
  },
  {
   "cell_type": "code",
   "execution_count": 6,
   "metadata": {},
   "outputs": [],
   "source": [
    "import time\n",
    "import tempfile\n",
    "# Run approxmc on each obsv\n",
    "# for i in obsv_indexes:\n",
    "#     obsv = \"Observation_\" + str(i)\n",
    "#     bits = obvs_bit_mapping[obsv]\n",
    "#     # for obsv, bits in obvs_bit_mapping.items():\n",
    "#     write_dimacs_with_ind(original_dimacs_path, dimacs_with_ind_path, bits)\n",
    "#     start_time = time.time()\n",
    "#     smc = run_approxmc(dimacs_with_ind_path)\n",
    "#     elapsed_time = time.time() - start_time\n",
    "#     print(obsv + \" smc is \" + smc + \" TIME: \" + str(elapsed_time))\n",
    "    \n",
    "    \n",
    "def count_selected_obsv(selected, original_dimacs_path, obvs_bit_mapping):\n",
    "#     dimacs_with_ind_path = \"/tmp/tmp_with_ind_for_obsv_total_{}.dimacs\".format(len(selected))\n",
    "    if not selected:\n",
    "        return (selected, 0, 0,0)\n",
    "    import math\n",
    "    print(\"count_selected_obsv\")\n",
    "    dimacs_with_ind_path = tempfile.NamedTemporaryFile().name\n",
    "    print(\"Write to \" + dimacs_with_ind_path)\n",
    "    bits = \"\"\n",
    "    for i in selected:\n",
    "        obsv = \"Observation_\" + str(i)\n",
    "        bits += \" \" + obvs_bit_mapping[obsv]\n",
    "    print(\"number of bits to count: \" + str(len(bits.split(\" \"))-1))\n",
    "    write_dimacs_with_ind(original_dimacs_path, dimacs_with_ind_path, bits)\n",
    "    \n",
    "    start_time = time.time()\n",
    "    smc = run_approxmc(dimacs_with_ind_path)\n",
    "    elapsed_time = time.time() - start_time\n",
    "    bit = -1\n",
    "    try:\n",
    "        bit = str(eval(\"math.log({},2)\".format(smc)))\n",
    "    except:\n",
    "        pass\n",
    "    info = \" smc is \" + smc + \" Bit: \" + str(bit) + \" TIME: \" + str(elapsed_time)\n",
    "    print(info)\n",
    "    return (selected, smc, eval(\"math.log({},2)\".format(smc)), elapsed_time)\n",
    "    \n",
    "#     info = obsv + \" smc is \" + smc + \" Bit: \" + str(eval(\"math.log({},2)\".format(smc))) + \" TIME: \" + str(elapsed_time)\n",
    "#     return info\n",
    "\n",
    "# print(count_selected_obsv(obsv_indexes[:100], original_dimacs_path, obvs_bit_mapping))\n",
    "\n",
    "# for i in obsv_indexes:\n",
    "#     print(count_single_obsv(i, original_dimacs_path, obvs_bit_mapping))\n"
   ]
  },
  {
   "cell_type": "code",
   "execution_count": 7,
   "metadata": {
    "scrolled": true
   },
   "outputs": [
    {
     "name": "stdout",
     "output_type": "stream",
     "text": [
      "count_selected_obsv\n",
      "Write to /tmp/tmpms96jjo0\n",
      "number of bits to count: 6304\n",
      " smc is 64*2**25 Bit: 31.000000000000004 TIME: 1.1401877403259277\n"
     ]
    },
    {
     "data": {
      "text/plain": [
       "([0,\n",
       "  1,\n",
       "  2,\n",
       "  3,\n",
       "  4,\n",
       "  5,\n",
       "  6,\n",
       "  7,\n",
       "  8,\n",
       "  9,\n",
       "  10,\n",
       "  11,\n",
       "  12,\n",
       "  13,\n",
       "  14,\n",
       "  15,\n",
       "  16,\n",
       "  17,\n",
       "  18,\n",
       "  19,\n",
       "  20,\n",
       "  21,\n",
       "  22,\n",
       "  23,\n",
       "  24,\n",
       "  25,\n",
       "  26,\n",
       "  27,\n",
       "  28,\n",
       "  29,\n",
       "  30,\n",
       "  31,\n",
       "  32,\n",
       "  33,\n",
       "  34,\n",
       "  35,\n",
       "  36,\n",
       "  37,\n",
       "  38,\n",
       "  39,\n",
       "  40,\n",
       "  41,\n",
       "  42,\n",
       "  43,\n",
       "  44,\n",
       "  45,\n",
       "  46,\n",
       "  47,\n",
       "  48,\n",
       "  49,\n",
       "  50,\n",
       "  51,\n",
       "  52,\n",
       "  53,\n",
       "  54,\n",
       "  55,\n",
       "  86,\n",
       "  87,\n",
       "  88,\n",
       "  89,\n",
       "  90,\n",
       "  91,\n",
       "  100,\n",
       "  101,\n",
       "  102,\n",
       "  103,\n",
       "  104,\n",
       "  105,\n",
       "  106,\n",
       "  107,\n",
       "  108,\n",
       "  109,\n",
       "  110,\n",
       "  111,\n",
       "  112,\n",
       "  113,\n",
       "  114,\n",
       "  115,\n",
       "  116,\n",
       "  117,\n",
       "  118,\n",
       "  119,\n",
       "  120,\n",
       "  121,\n",
       "  122,\n",
       "  123,\n",
       "  124,\n",
       "  125,\n",
       "  126,\n",
       "  127,\n",
       "  128,\n",
       "  129,\n",
       "  130,\n",
       "  131,\n",
       "  132,\n",
       "  133,\n",
       "  134,\n",
       "  135,\n",
       "  136,\n",
       "  137,\n",
       "  138,\n",
       "  139,\n",
       "  140,\n",
       "  141,\n",
       "  142,\n",
       "  143,\n",
       "  153,\n",
       "  154,\n",
       "  155,\n",
       "  156,\n",
       "  157,\n",
       "  158,\n",
       "  159,\n",
       "  160,\n",
       "  161,\n",
       "  162,\n",
       "  163,\n",
       "  164,\n",
       "  165,\n",
       "  166,\n",
       "  167,\n",
       "  168,\n",
       "  169,\n",
       "  170,\n",
       "  171,\n",
       "  172,\n",
       "  173,\n",
       "  174,\n",
       "  175,\n",
       "  176,\n",
       "  177,\n",
       "  178,\n",
       "  179,\n",
       "  193,\n",
       "  194,\n",
       "  195,\n",
       "  196,\n",
       "  197,\n",
       "  198,\n",
       "  199,\n",
       "  200,\n",
       "  201,\n",
       "  202,\n",
       "  203,\n",
       "  204,\n",
       "  205,\n",
       "  206,\n",
       "  207,\n",
       "  208,\n",
       "  209,\n",
       "  210,\n",
       "  211,\n",
       "  212,\n",
       "  213,\n",
       "  214,\n",
       "  215,\n",
       "  216,\n",
       "  217,\n",
       "  218,\n",
       "  219,\n",
       "  220,\n",
       "  221,\n",
       "  222,\n",
       "  223,\n",
       "  224,\n",
       "  225,\n",
       "  226,\n",
       "  227,\n",
       "  228,\n",
       "  229,\n",
       "  230,\n",
       "  231,\n",
       "  232,\n",
       "  233,\n",
       "  244,\n",
       "  245,\n",
       "  246,\n",
       "  247,\n",
       "  248,\n",
       "  249,\n",
       "  250,\n",
       "  251,\n",
       "  252,\n",
       "  253,\n",
       "  254,\n",
       "  255,\n",
       "  256,\n",
       "  257,\n",
       "  258,\n",
       "  259,\n",
       "  260,\n",
       "  261,\n",
       "  262,\n",
       "  263,\n",
       "  264,\n",
       "  265,\n",
       "  266],\n",
       " '64*2**25',\n",
       " 31.000000000000004,\n",
       " 1.1401877403259277)"
      ]
     },
     "execution_count": 7,
     "metadata": {},
     "output_type": "execute_result"
    }
   ],
   "source": [
    "count_selected_obsv(obsv_indexes, original_dimacs_path, obvs_bit_mapping)"
   ]
  },
  {
   "cell_type": "code",
   "execution_count": null,
   "metadata": {},
   "outputs": [],
   "source": [
    "import tempfile\n",
    "\n",
    "non_zero_obsv = dict()\n",
    "def find_non_zero_obsvs(selected, original_dimacs_path, obvs_bit_mapping):\n",
    "    if (len(selected) == 1):\n",
    "        obsv = \"Observation_\" + str(selected[0])\n",
    "        bits = \" \" + obvs_bit_mapping[obsv]\n",
    "        with tempfile.NamedTemporaryFile() as tmp:\n",
    "            write_dimacs_with_ind(original_dimacs_path, tmp.name, bits)\n",
    "            smc = run_approxmc(tmp.name)\n",
    "        print(obsv)\n",
    "        print(smc)\n",
    "        print()\n",
    "        non_zero_obsv[obsv] = smc\n",
    "    else:\n",
    "        smc = count_selected_obsv(selected, original_dimacs_path, obvs_bit_mapping)\n",
    "        print(selected)\n",
    "        print(smc)\n",
    "        print()\n",
    "        if (eval(smc) > 1):\n",
    "            mid_index = int(len(selected) / 2);\n",
    "            left = selected[:mid_index];\n",
    "            right = selected[mid_index:]\n",
    "            find_non_zero_obsvs(left, original_dimacs_path, obvs_bit_mapping)\n",
    "            find_non_zero_obsvs(right, original_dimacs_path, obvs_bit_mapping)\n",
    "            \n",
    "find_non_zero_obsvs(obsv_indexes[0:100], original_dimacs_path, obvs_bit_mapping)"
   ]
  },
  {
   "cell_type": "code",
   "execution_count": null,
   "metadata": {
    "scrolled": true
   },
   "outputs": [
    {
     "name": "stdout",
     "output_type": "stream",
     "text": [
      "count_selected_obsv\n",
      "Write to /tmp/tmpcxfeszcc\n",
      "number of bits to count: 256\n",
      " smc is 64*2**58 Bit: 64.0 TIME: 207.53980684280396\n",
      "count_selected_obsv\n",
      "Write to /tmp/tmps3h6h_fu\n",
      "number of bits to count: 288\n",
      " smc is 64*2**66 Bit: 72.0 TIME: 1040.1102566719055\n"
     ]
    }
   ],
   "source": [
    "%%capture output\n",
    "\n",
    "import itertools\n",
    "import copy\n",
    "obsv_indexes = [707,722,737,752,767,782,797,812,830,845,860,875,890,905,920,935,953,968,983,998,1013,1028,1043,1058,1076,1091,1106,1121,1136,1151,1166,1181]\n",
    "obsv_indexes = list(itertools.accumulate(obsv_indexes, lambda x,y: x + [y], initial=[]))\n",
    "obsv_indexes = obsv_indexes[8:12]\n",
    "\n",
    "from joblib import Parallel, delayed\n",
    "Parallel(n_jobs=4)(delayed(count_selected_obsv)(i, original_dimacs_path, obvs_bit_mapping) for i in obsv_indexes)"
   ]
  },
  {
   "cell_type": "code",
   "execution_count": 44,
   "metadata": {
    "scrolled": false
   },
   "outputs": [],
   "source": [
    "output.show()"
   ]
  },
  {
   "cell_type": "code",
   "execution_count": null,
   "metadata": {},
   "outputs": [],
   "source": [
    "[([109], '64*2**2', 8.0, 147.9812171459198),\n",
    " ([150], '64*2**2', 8.0, 145.77498149871826),\n",
    " ([191], '64*2**2', 8.0, 148.08890342712402),\n",
    " ([232], '64*2**2', 8.0, 147.89272141456604),\n",
    " ([273], '64*2**2', 8.0, 148.2190010547638),\n",
    " ([314], '64*2**2', 8.0, 145.5706820487976),\n",
    " ([355], '64*2**2', 8.0, 147.22913718223572),\n",
    " ([396], '64*2**2', 8.0, 146.49327421188354),\n",
    " ([437], '64*2**2', 8.0, 147.71318817138672),\n",
    " ([478], '64*2**2', 8.0, 146.2273609638214)]\n",
    "\n",
    "[([], 0, 0, 0),\n",
    " ([109], '64*2**2', 8.0, 146.4716203212738),\n",
    " ([109, 150], '64*2**10', 16.0, 162.492089509964),\n",
    " ([109, 150, 191], '64*2**18', 24.0, 171.54675388336182),\n",
    " ([109, 150, 191, 232], '64*2**26', 32.0, 182.5862123966217),\n",
    " ([109, 150, 191, 232, 273], '64*2**34', 40.0, 184.7077431678772),\n",
    " ([109, 150, 191, 232, 273, 314], '64*2**42', 48.0, 198.64548206329346),\n",
    " ([109, 150, 191, 232, 273, 314, 355], '64*2**50', 56.0, 208.80172204971313),\n",
    " ([109, 150, 191, 232, 273, 314, 355, 396],\n",
    "  '64*2**58',\n",
    "  64.0,\n",
    "  213.79508757591248),\n",
    " ([109, 150, 191, 232, 273, 314, 355, 396, 437],\n",
    "  '64*2**66',\n",
    "  72.0,\n",
    "  223.79803705215454),\n",
    " ([109, 150, 191, 232, 273, 314, 355, 396, 437, 478],\n",
    "  '64*2**74',\n",
    "  80.0,\n",
    "  240.89247226715088)]\n",
    "\n",
    "[([707], '64*2**2', 8.0, 149.53641605377197),\n",
    " ([722], '64*2**2', 8.0, 148.94620943069458),\n",
    " ([737], '64*2**2', 8.0, 147.3730435371399),\n",
    " ([752], '64*2**2', 8.0, 148.35417914390564),\n",
    " ([767], '64*2**2', 8.0, 156.62118577957153),\n",
    " ([782], '64*2**2', 8.0, 148.15979290008545),\n",
    " ([797], '64*2**2', 8.0, 146.0324411392212),\n",
    " ([812], '64*2**2', 8.0, 148.2405469417572),\n",
    " ([830], '64*2**2', 8.0, 186.53139996528625),\n",
    " ([845], '64*2**2', 8.0, 183.72320199012756),\n",
    " ([860], '64*2**2', 8.0, 185.8994402885437),\n",
    " ([875], '64*2**2', 8.0, 201.1816804409027),\n",
    " ([890], '64*2**2', 8.0, 407.23096537590027),\n",
    " ([905], '64*2**2', 8.0, 393.06358790397644),\n",
    " ([920], '64*2**2', 8.0, 388.0429985523224),\n",
    " ([935], '64*2**2', 8.0, 403.139643907547),\n",
    " ([953], '64*2**2', 8.0, 588.561440706253),\n",
    " ([968], '64*2**2', 8.0, 611.6792685985565),\n",
    " ([983], '64*2**2', 8.0, 576.6345274448395),\n",
    " ([998], '64*2**2', 8.0, 562.0714280605316),\n",
    " ([1013], '64*2**2', 8.0, 1327.8625049591064),\n",
    " ([1028], '64*2**2', 8.0, 1361.7505412101746),\n",
    " ([1043], '64*2**2', 8.0, 1012.8998663425446),\n",
    " ([1058], '64*2**2', 8.0, 1094.139274597168),\n",
    " ([1076], '64*2**2', 8.0, 4259.0821621418),\n",
    " ([1091], '64*2**2', 8.0, 11522.293756484985),\n",
    " ([1106], '64*2**2', 8.0, 2893.1061232089996),\n",
    " ([1121], '64*2**2', 8.0, 6392.139272212982),\n",
    " ([1136], '2', 1.0, 179722.87578988075),\n",
    " ([1151], '2', 1.0, 176974.1047308445),\n",
    " ([1166], '2', 1.0, 176598.54909825325),\n",
    " ([1181], '2', 1.0, 173383.62423729897)]\n",
    "\n",
    "[([], 0, 0, 0),\n",
    " ([707], '64*2**2', 8.0, 146.3201014995575),\n",
    " ([707, 722], '64*2**10', 16.0, 161.7089478969574),\n",
    " ([707, 722, 737], '64*2**18', 24.0, 173.1897475719452),\n",
    " ([707, 722, 737, 752], '64*2**26', 32.0, 176.84574937820435),\n",
    " ([707, 722, 737, 752, 767], '64*2**34', 40.0, 186.16790390014648),\n",
    " ([707, 722, 737, 752, 767, 782], '64*2**42', 48.0, 190.9355273246765),\n",
    " ([707, 722, 737, 752, 767, 782, 797], '64*2**50', 56.0, 194.95252871513367),\n",
    " ([707, 722, 737, 752, 767, 782, 797, 812],\n",
    "  '64*2**58',\n",
    "  64.0,\n",
    "  203.55404472351074),\n",
    " ([707, 722, 737, 752, 767, 782, 797, 812, 830],\n",
    "  '64*2**66',\n",
    "  72.0,\n",
    "  865.8574552536011)]"
   ]
  },
  {
   "cell_type": "code",
   "execution_count": 26,
   "metadata": {},
   "outputs": [
    {
     "data": {
      "text/plain": [
       "[0,\n",
       " 146.3201014995575,\n",
       " 161.7089478969574,\n",
       " 173.1897475719452,\n",
       " 176.84574937820435,\n",
       " 186.16790390014648,\n",
       " 190.9355273246765,\n",
       " 194.95252871513367,\n",
       " 203.55404472351074,\n",
       " 865.8574552536011]"
      ]
     },
     "execution_count": 26,
     "metadata": {},
     "output_type": "execute_result"
    }
   ],
   "source": [
    "list(map(lambda x: x[3], [([], 0, 0, 0),\n",
    " ([707], '64*2**2', 8.0, 146.3201014995575),\n",
    " ([707, 722], '64*2**10', 16.0, 161.7089478969574),\n",
    " ([707, 722, 737], '64*2**18', 24.0, 173.1897475719452),\n",
    " ([707, 722, 737, 752], '64*2**26', 32.0, 176.84574937820435),\n",
    " ([707, 722, 737, 752, 767], '64*2**34', 40.0, 186.16790390014648),\n",
    " ([707, 722, 737, 752, 767, 782], '64*2**42', 48.0, 190.9355273246765),\n",
    " ([707, 722, 737, 752, 767, 782, 797], '64*2**50', 56.0, 194.95252871513367),\n",
    " ([707, 722, 737, 752, 767, 782, 797, 812],\n",
    "  '64*2**58',\n",
    "  64.0,\n",
    "  203.55404472351074),\n",
    " ([707, 722, 737, 752, 767, 782, 797, 812, 830],\n",
    "  '64*2**66',\n",
    "  72.0,\n",
    "  865.8574552536011)]))"
   ]
  },
  {
   "cell_type": "code",
   "execution_count": null,
   "metadata": {
    "scrolled": true
   },
   "outputs": [],
   "source": [
    "a =\"\"\"\n",
    "224 225 226 227 228 229 230 231 232 233 234 235 236 237 238 239 240 241 242 243 244 245 246 247 248 249 250 251 252 253 254 255\n",
    "160 161 162 163 164 165 166 167 168 169 170 171 172 173 174 175 176 177 178 179 180 181 182 183 184 185 186 187 188 189 190 191\n",
    "128 129 130 131 132 133 134 135 136 137 138 139 140 141 142 143 144 145 146 147 148 149 150 151 152 153 154 155 156 157 158 159\n",
    "96 97 98 99 100 101 102 103 104 105 106 107 108 109 110 111 112 113 114 115 116 117 118 119 120 121 122 123 124 125 126 127\n",
    "64 65 66 67 68 69 70 71 72 73 74 75 76 77 78 79 80 81 82 83 84 85 86 87 88 89 90 91 92 93 94 95\n",
    "256 257 258 259 260 261 262 263 264 265 266 267 268 269 270 271 272 273 274 275 276 277 278 279 280 281 282 283 284 285 286 287\n",
    "32 33 34 35 36 37 38 39 40 41 42 43 44 45 46 47 48 49 50 51 52 53 54 55 56 57 58 59 60 61 62 63\n",
    "192 193 194 195 196 197 198 199 200 201 202 203 204 205 206 207 208 209 210 211 212 213 214 215 216 217 218 219 220 221 222 223\n",
    "\"\"\"\n",
    "\n",
    "a_literal = a.split()\n",
    "print(len(a_literal))\n",
    "\n",
    "result = \"\"\n",
    "for i in a_literal:\n",
    "    if int(i) % 8 != 0:\n",
    "        continue\n",
    "    if hash(i) % 2 == 0:\n",
    "        result += \"29 {} 0\\n\".format(i)\n",
    "    else:\n",
    "        result += \"-29 {} 0\\n\".format(i)\n",
    "print(len(result.split(\"\\n\")))\n",
    "print(result)"
   ]
  },
  {
   "cell_type": "code",
   "execution_count": 41,
   "metadata": {
    "scrolled": true
   },
   "outputs": [
    {
     "name": "stdout",
     "output_type": "stream",
     "text": [
      "191\n"
     ]
    }
   ],
   "source": [
    "obvs_bit_mapping = get_obsv_bit_mapping(original_dimacs_path)\n",
    "\n",
    "obsv_indexes = sorted(map(lambda x: int(x.split('_')[1]), obvs_bit_mapping.keys()))\n",
    "print(len(obsv_indexes))"
   ]
  },
  {
   "cell_type": "code",
   "execution_count": 59,
   "metadata": {
    "scrolled": true
   },
   "outputs": [
    {
     "name": "stdout",
     "output_type": "stream",
     "text": [
      "count_selected_obsv\n",
      "Write to /tmp/tmpof89ched\n",
      "number of bits to count: 32\n",
      " smc is 64*2**24 Bit: 30.0 TIME: 0.5776207447052002\n"
     ]
    },
    {
     "data": {
      "text/plain": [
       "([204], '64*2**24', 30.0, 0.5776207447052002)"
      ]
     },
     "execution_count": 59,
     "metadata": {},
     "output_type": "execute_result"
    }
   ],
   "source": [
    "# count_selected_obsv(obsv_indexes, original_dimacs_path, obvs_bit_mapping)\n",
    "count_selected_obsv([obsv_indexes[177]], original_dimacs_path, obvs_bit_mapping)\n",
    "# count_selected_obsv(list(list(range(0,100))), original_dimacs_path, obvs_bit_mapping)\n",
    "# count_selected_obsv([165], original_dimacs_path, obvs_bit_mapping)"
   ]
  },
  {
   "cell_type": "code",
   "execution_count": 60,
   "metadata": {},
   "outputs": [
    {
     "data": {
      "text/plain": [
       "204"
      ]
     },
     "execution_count": 60,
     "metadata": {},
     "output_type": "execute_result"
    }
   ],
   "source": [
    "obsv_indexes[177]\n"
   ]
  },
  {
   "cell_type": "code",
   "execution_count": null,
   "metadata": {},
   "outputs": [],
   "source": []
  }
 ],
 "metadata": {
  "interpreter": {
   "hash": "cb842fc87ebf2987be6cc2ac23ed2a313699dbda2cf017f3cb7bcb38cc735648"
  },
  "kernelspec": {
   "display_name": "Python 3.9.1 64-bit ('3.9.1': pyenv)",
   "name": "python3"
  },
  "language_info": {
   "codemirror_mode": {
    "name": "ipython",
    "version": 3
   },
   "file_extension": ".py",
   "mimetype": "text/x-python",
   "name": "python",
   "nbconvert_exporter": "python",
   "pygments_lexer": "ipython3",
   "version": "3.9.1"
  }
 },
 "nbformat": 4,
 "nbformat_minor": 4
}
