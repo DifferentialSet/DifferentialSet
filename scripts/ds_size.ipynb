{
 "cells": [
  {
   "cell_type": "code",
   "execution_count": 39,
   "metadata": {},
   "outputs": [],
   "source": [
    "# find all files named \"sensitive_ds_info.csv\" in the current directory and all subdirectories\n",
    "# and print the path to each file\n",
    "\n",
    "import os\n",
    "from posixpath import dirname\n",
    "\n",
    "fs = []\n",
    "for root, dirs, files in os.walk(\"/home/ubuntu/src/DSA_github/benchmarks/mitigation\"):\n",
    "    for file in files:\n",
    "        if file == \"sensitive_ds_info.csv\":\n",
    "            p = os.path.join(root, file)\n",
    "            if \"play\" in p:\n",
    "                continue\n",
    "            fs.append(p)\n",
    "\n",
    "info = {}\n",
    "for file_name in fs:\n",
    "    with open(file_name, 'r') as f:\n",
    "        dir_name = os.path.dirname(file_name)\n",
    "        bench_name = \"/\".join(dir_name.split(\"/\")[-2:])\n",
    "        file_info = {}\n",
    "        info[bench_name] = file_info\n",
    "        for line in f:\n",
    "            splits = line.split(',')\n",
    "            var = splits[2]\n",
    "            size = splits[1]\n",
    "            key = (var, size, bench_name)\n",
    "            file_info[key] = 1 if key not in file_info else file_info[key] + 1\n"
   ]
  },
  {
   "cell_type": "code",
   "execution_count": 55,
   "metadata": {},
   "outputs": [
    {
     "name": "stdout",
     "output_type": "stream",
     "text": [
      "1056 15762 0.06699657403882756\n"
     ]
    }
   ],
   "source": [
    "red = 224+257+1+62+512\n",
    "all = sum([count for k,v in info.items() for _, count in v.items()])\n",
    "print(red, all, red/all)"
   ]
  },
  {
   "cell_type": "markdown",
   "metadata": {},
   "source": []
  },
  {
   "cell_type": "code",
   "execution_count": 54,
   "metadata": {},
   "outputs": [
    {
     "data": {
      "text/plain": [
       "(array([512.,   0., 449.,   0.,   0.,   0.,   0.,   0.,  33.,   0.,   0.,\n",
       "          0.,   4.,  12.,   4.,  14.,   4.,   8.,  12.,   6.]),\n",
       " array([0.125  , 0.16875, 0.2125 , 0.25625, 0.3    , 0.34375, 0.3875 ,\n",
       "        0.43125, 0.475  , 0.51875, 0.5625 , 0.60625, 0.65   , 0.69375,\n",
       "        0.7375 , 0.78125, 0.825  , 0.86875, 0.9125 , 0.95625, 1.     ]),\n",
       " <BarContainer object of 20 artists>)"
      ]
     },
     "execution_count": 54,
     "metadata": {},
     "output_type": "execute_result"
    },
    {
     "data": {
      "image/png": "[encoded data removed]",
      "text/plain": [
       "<Figure size 640x480 with 1 Axes>"
      ]
     },
     "metadata": {},
     "output_type": "display_data"
    }
   ],
   "source": [
    "reduction = [1/2]*8 + [1/4]*32 + [1/4]*96 + [1/2]*24 + [1/4]*64 + [1/4]*257 + [1/2]*1 + [32/256]*512 + [511/748]*4 + [524/748]*4 + [535/748]*2 + [539/748]*4 + [540/748]*2 + [557/748]*2 + [584/748]*2 + [595/748]*4 + [598/748]*4 + [608/748]*2 + [610/748]*4 + [621/748]*2 + [646/748]*2 + [657/748]*2 + [669/748]*2 + [678/748]*2 + [680/748]*2 + [687/748]*2 + [688/748]*2 + [693/748]*2 + [703/748]*6 + [725/748]*2 + [747/748]*2 + [748/748]*2\n",
    "# plot histogram of the reduction\n",
    "import matplotlib.pyplot as plt\n",
    "plt.hist(reduction, bins=20)"
   ]
  },
  {
   "cell_type": "code",
   "execution_count": null,
   "metadata": {},
   "outputs": [],
   "source": []
  }
 ],
 "metadata": {
  "kernelspec": {
   "display_name": "Python 3.8.10 64-bit",
   "language": "python",
   "name": "python3"
  },
  "language_info": {
   "codemirror_mode": {
    "name": "ipython",
    "version": 3
   },
   "file_extension": ".py",
   "mimetype": "text/x-python",
   "name": "python",
   "nbconvert_exporter": "python",
   "pygments_lexer": "ipython3",
   "version": "3.8.10"
  },
  "orig_nbformat": 4,
  "vscode": {
   "interpreter": {
    "hash": "916dbcbb3f70747c44a77c7bcd40155683ae19c65e1c03b4aa3499c5328201f1"
   }
  }
 },
 "nbformat": 4,
 "nbformat_minor": 2
}
